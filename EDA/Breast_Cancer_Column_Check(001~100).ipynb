{
 "cells": [
  {
   "cell_type": "code",
   "execution_count": 1,
   "id": "809eaa17",
   "metadata": {},
   "outputs": [
    {
     "name": "stdout",
     "output_type": "stream",
     "text": [
      "Collecting pandas\n",
      "  Downloading pandas-2.0.3-cp311-cp311-win_amd64.whl (10.6 MB)\n",
      "                                              0.0/10.6 MB ? eta -:--:--\n",
      "     --                                       0.6/10.6 MB 18.8 MB/s eta 0:00:01\n",
      "     --------                                 2.2/10.6 MB 28.4 MB/s eta 0:00:01\n",
      "     --------------------                     5.4/10.6 MB 42.8 MB/s eta 0:00:01\n",
      "     --------------------------------------  10.6/10.6 MB 65.6 MB/s eta 0:00:01\n",
      "     --------------------------------------- 10.6/10.6 MB 46.7 MB/s eta 0:00:00\n",
      "Requirement already satisfied: python-dateutil>=2.8.2 in c:\\users\\shoh\\appdata\\local\\programs\\python\\python311\\lib\\site-packages (from pandas) (2.8.2)\n",
      "Collecting pytz>=2020.1 (from pandas)\n",
      "  Downloading pytz-2023.3-py2.py3-none-any.whl (502 kB)\n",
      "                                              0.0/502.3 kB ? eta -:--:--\n",
      "     ------------------------------------- 502.3/502.3 kB 32.8 MB/s eta 0:00:00\n",
      "Collecting tzdata>=2022.1 (from pandas)\n",
      "  Downloading tzdata-2023.3-py2.py3-none-any.whl (341 kB)\n",
      "                                              0.0/341.8 kB ? eta -:--:--\n",
      "     ------------------------------------- 341.8/341.8 kB 20.7 MB/s eta 0:00:00\n",
      "Collecting numpy>=1.21.0 (from pandas)\n",
      "  Downloading numpy-1.25.1-cp311-cp311-win_amd64.whl (15.0 MB)\n",
      "                                              0.0/15.0 MB ? eta -:--:--\n",
      "     -------------                           5.3/15.0 MB 113.5 MB/s eta 0:00:01\n",
      "     ---------------------------            10.8/15.0 MB 108.8 MB/s eta 0:00:01\n",
      "     -------------------------------------  15.0/15.0 MB 131.2 MB/s eta 0:00:01\n",
      "     -------------------------------------  15.0/15.0 MB 131.2 MB/s eta 0:00:01\n",
      "     --------------------------------------- 15.0/15.0 MB 65.5 MB/s eta 0:00:00\n",
      "Requirement already satisfied: six>=1.5 in c:\\users\\shoh\\appdata\\local\\programs\\python\\python311\\lib\\site-packages (from python-dateutil>=2.8.2->pandas) (1.16.0)\n",
      "Installing collected packages: pytz, tzdata, numpy, pandas\n",
      "Successfully installed numpy-1.25.1 pandas-2.0.3 pytz-2023.3 tzdata-2023.3\n",
      "Requirement already satisfied: numpy in c:\\users\\shoh\\appdata\\local\\programs\\python\\python311\\lib\\site-packages (1.25.1)\n",
      "Collecting scipy\n",
      "  Downloading scipy-1.11.1-cp311-cp311-win_amd64.whl (44.0 MB)\n",
      "                                              0.0/44.0 MB ? eta -:--:--\n",
      "                                              0.6/44.0 MB 18.8 MB/s eta 0:00:03\n",
      "     -                                        1.9/44.0 MB 24.2 MB/s eta 0:00:02\n",
      "     ---                                      4.0/44.0 MB 32.2 MB/s eta 0:00:02\n",
      "     ------                                   7.3/44.0 MB 42.4 MB/s eta 0:00:01\n",
      "     ----------                              12.1/44.0 MB 72.6 MB/s eta 0:00:01\n",
      "     --------------                         17.1/44.0 MB 108.8 MB/s eta 0:00:01\n",
      "     -------------------                    22.4/44.0 MB 108.8 MB/s eta 0:00:01\n",
      "     -----------------------                27.0/44.0 MB 110.0 MB/s eta 0:00:01\n",
      "     ---------------------------            31.7/44.0 MB 110.0 MB/s eta 0:00:01\n",
      "     -------------------------------        36.3/44.0 MB 108.8 MB/s eta 0:00:01\n",
      "     --------------------------------       37.7/44.0 MB 108.8 MB/s eta 0:00:01\n",
      "     -------------------------------------   42.1/44.0 MB 72.6 MB/s eta 0:00:01\n",
      "     --------------------------------------  44.0/44.0 MB 81.8 MB/s eta 0:00:01\n",
      "     --------------------------------------  44.0/44.0 MB 81.8 MB/s eta 0:00:01\n",
      "     --------------------------------------  44.0/44.0 MB 81.8 MB/s eta 0:00:01\n",
      "     --------------------------------------  44.0/44.0 MB 81.8 MB/s eta 0:00:01\n",
      "     --------------------------------------  44.0/44.0 MB 81.8 MB/s eta 0:00:01\n",
      "     --------------------------------------- 44.0/44.0 MB 29.8 MB/s eta 0:00:00\n",
      "Requirement already satisfied: numpy<1.28.0,>=1.21.6 in c:\\users\\shoh\\appdata\\local\\programs\\python\\python311\\lib\\site-packages (from scipy) (1.25.1)\n",
      "Installing collected packages: scipy\n",
      "Successfully installed scipy-1.11.1\n",
      "Collecting tqdm\n",
      "  Downloading tqdm-4.65.0-py3-none-any.whl (77 kB)\n",
      "                                              0.0/77.1 kB ? eta -:--:--\n",
      "     ---------------------------------------- 77.1/77.1 kB 1.4 MB/s eta 0:00:00\n",
      "Requirement already satisfied: colorama in c:\\users\\shoh\\appdata\\local\\programs\\python\\python311\\lib\\site-packages (from tqdm) (0.4.6)\n",
      "Installing collected packages: tqdm\n",
      "Successfully installed tqdm-4.65.0\n",
      "Collecting albumentations\n",
      "  Downloading albumentations-1.3.1-py3-none-any.whl (125 kB)\n",
      "                                              0.0/125.7 kB ? eta -:--:--\n",
      "     -------------------------------------- 125.7/125.7 kB 3.7 MB/s eta 0:00:00\n",
      "Requirement already satisfied: numpy>=1.11.1 in c:\\users\\shoh\\appdata\\local\\programs\\python\\python311\\lib\\site-packages (from albumentations) (1.25.1)\n",
      "Requirement already satisfied: scipy>=1.1.0 in c:\\users\\shoh\\appdata\\local\\programs\\python\\python311\\lib\\site-packages (from albumentations) (1.11.1)\n",
      "Collecting scikit-image>=0.16.1 (from albumentations)\n",
      "  Downloading scikit_image-0.21.0-cp311-cp311-win_amd64.whl (22.8 MB)\n",
      "                                              0.0/22.8 MB ? eta -:--:--\n",
      "     -                                        1.0/22.8 MB 22.0 MB/s eta 0:00:01\n",
      "     -----                                    3.1/22.8 MB 32.8 MB/s eta 0:00:01\n",
      "     ----------                               6.2/22.8 MB 44.0 MB/s eta 0:00:01\n",
      "     ------------------                      10.5/22.8 MB 59.8 MB/s eta 0:00:01\n",
      "     -----------------------                 13.6/22.8 MB 81.8 MB/s eta 0:00:01\n",
      "     -----------------------                 13.6/22.8 MB 81.8 MB/s eta 0:00:01\n",
      "     -----------------------                 13.6/22.8 MB 81.8 MB/s eta 0:00:01\n",
      "     -----------------------                 13.6/22.8 MB 81.8 MB/s eta 0:00:01\n",
      "     -----------------------                 13.6/22.8 MB 81.8 MB/s eta 0:00:01\n",
      "     -----------------------                 13.6/22.8 MB 81.8 MB/s eta 0:00:01\n",
      "     -----------------------------           17.5/22.8 MB 28.4 MB/s eta 0:00:01\n",
      "     --------------------------------------  22.5/22.8 MB 28.5 MB/s eta 0:00:01\n",
      "     --------------------------------------  22.8/22.8 MB 28.5 MB/s eta 0:00:01\n",
      "     --------------------------------------  22.8/22.8 MB 28.5 MB/s eta 0:00:01\n",
      "     --------------------------------------- 22.8/22.8 MB 21.8 MB/s eta 0:00:00\n",
      "Requirement already satisfied: PyYAML in c:\\users\\shoh\\appdata\\local\\programs\\python\\python311\\lib\\site-packages (from albumentations) (6.0)\n",
      "Collecting qudida>=0.0.4 (from albumentations)\n",
      "  Downloading qudida-0.0.4-py3-none-any.whl (3.5 kB)\n",
      "Collecting opencv-python-headless>=4.1.1 (from albumentations)\n",
      "  Downloading opencv_python_headless-4.8.0.74-cp37-abi3-win_amd64.whl (38.0 MB)\n",
      "                                              0.0/38.0 MB ? eta -:--:--\n",
      "     ----                                     4.0/38.0 MB 84.8 MB/s eta 0:00:01\n",
      "     ----                                     4.2/38.0 MB 88.9 MB/s eta 0:00:01\n",
      "     -----                                    4.8/38.0 MB 34.1 MB/s eta 0:00:01\n",
      "     ---------                                9.1/38.0 MB 48.8 MB/s eta 0:00:01\n",
      "     -------------                           13.4/38.0 MB 50.4 MB/s eta 0:00:01\n",
      "     ------------------                      17.7/38.0 MB 81.8 MB/s eta 0:00:01\n",
      "     ----------------------                  22.0/38.0 MB 93.0 MB/s eta 0:00:01\n",
      "     ----------------------                  22.0/38.0 MB 93.0 MB/s eta 0:00:01\n",
      "     ----------------------                  22.0/38.0 MB 93.0 MB/s eta 0:00:01\n",
      "     ----------------------                  22.0/38.0 MB 93.0 MB/s eta 0:00:01\n",
      "     ------------------------                24.1/38.0 MB 40.9 MB/s eta 0:00:01\n",
      "     -------------------------               25.3/38.0 MB 34.4 MB/s eta 0:00:01\n",
      "     -------------------------------         30.4/38.0 MB 34.6 MB/s eta 0:00:01\n",
      "     -------------------------------         30.4/38.0 MB 34.6 MB/s eta 0:00:01\n",
      "     -------------------------------         30.4/38.0 MB 34.6 MB/s eta 0:00:01\n",
      "     -------------------------------         30.4/38.0 MB 34.6 MB/s eta 0:00:01\n",
      "     -------------------------------         30.4/38.0 MB 34.6 MB/s eta 0:00:01\n",
      "     --------------------------------        31.8/38.0 MB 19.8 MB/s eta 0:00:01\n",
      "     -----------------------------------     34.6/38.0 MB 32.8 MB/s eta 0:00:01\n",
      "     -----------------------------------     34.6/38.0 MB 32.8 MB/s eta 0:00:01\n",
      "     --------------------------------------  37.2/38.0 MB 25.2 MB/s eta 0:00:01\n",
      "     --------------------------------------  37.9/38.0 MB 25.2 MB/s eta 0:00:01\n",
      "     --------------------------------------  37.9/38.0 MB 25.2 MB/s eta 0:00:01\n",
      "     --------------------------------------  37.9/38.0 MB 25.2 MB/s eta 0:00:01\n",
      "     --------------------------------------  37.9/38.0 MB 25.2 MB/s eta 0:00:01\n",
      "     --------------------------------------- 38.0/38.0 MB 17.7 MB/s eta 0:00:00\n",
      "Collecting scikit-learn>=0.19.1 (from qudida>=0.0.4->albumentations)\n",
      "  Downloading scikit_learn-1.3.0-cp311-cp311-win_amd64.whl (9.2 MB)\n",
      "                                              0.0/9.2 MB ? eta -:--:--\n",
      "     ------------------                       4.2/9.2 MB 129.6 MB/s eta 0:00:01\n",
      "     ---------------------------------------  9.2/9.2 MB 116.1 MB/s eta 0:00:01\n",
      "     ---------------------------------------- 9.2/9.2 MB 73.5 MB/s eta 0:00:00\n",
      "Collecting typing-extensions (from qudida>=0.0.4->albumentations)\n",
      "  Downloading typing_extensions-4.7.1-py3-none-any.whl (33 kB)\n",
      "Collecting networkx>=2.8 (from scikit-image>=0.16.1->albumentations)\n",
      "  Downloading networkx-3.1-py3-none-any.whl (2.1 MB)\n",
      "                                              0.0/2.1 MB ? eta -:--:--\n",
      "     ---------------------------------------- 2.1/2.1 MB 66.5 MB/s eta 0:00:00\n",
      "Collecting pillow>=9.0.1 (from scikit-image>=0.16.1->albumentations)\n",
      "  Downloading Pillow-10.0.0-cp311-cp311-win_amd64.whl (2.5 MB)\n",
      "                                              0.0/2.5 MB ? eta -:--:--\n",
      "     ---------------------------------------- 2.5/2.5 MB 80.7 MB/s eta 0:00:00\n",
      "Collecting imageio>=2.27 (from scikit-image>=0.16.1->albumentations)\n",
      "  Downloading imageio-2.31.1-py3-none-any.whl (313 kB)\n",
      "                                              0.0/313.2 kB ? eta -:--:--\n",
      "     ---------------------------------------- 313.2/313.2 kB ? eta 0:00:00\n",
      "Collecting tifffile>=2022.8.12 (from scikit-image>=0.16.1->albumentations)\n",
      "  Downloading tifffile-2023.7.4-py3-none-any.whl (220 kB)\n",
      "                                              0.0/220.8 kB ? eta -:--:--\n",
      "     ---------------------------------------- 220.8/220.8 kB ? eta 0:00:00\n",
      "Collecting PyWavelets>=1.1.1 (from scikit-image>=0.16.1->albumentations)\n",
      "  Downloading PyWavelets-1.4.1-cp311-cp311-win_amd64.whl (4.2 MB)\n",
      "                                              0.0/4.2 MB ? eta -:--:--\n",
      "     ---------------------------------------  4.2/4.2 MB 133.8 MB/s eta 0:00:01\n",
      "     ---------------------------------------- 4.2/4.2 MB 66.9 MB/s eta 0:00:00\n",
      "Requirement already satisfied: packaging>=21 in c:\\users\\shoh\\appdata\\local\\programs\\python\\python311\\lib\\site-packages (from scikit-image>=0.16.1->albumentations) (23.1)\n",
      "Collecting lazy_loader>=0.2 (from scikit-image>=0.16.1->albumentations)\n",
      "  Downloading lazy_loader-0.3-py3-none-any.whl (9.1 kB)\n",
      "Collecting joblib>=1.1.1 (from scikit-learn>=0.19.1->qudida>=0.0.4->albumentations)\n",
      "  Downloading joblib-1.3.1-py3-none-any.whl (301 kB)\n",
      "                                              0.0/302.0 kB ? eta -:--:--\n",
      "     ------------------------------------- 302.0/302.0 kB 19.4 MB/s eta 0:00:00\n",
      "Collecting threadpoolctl>=2.0.0 (from scikit-learn>=0.19.1->qudida>=0.0.4->albumentations)\n",
      "  Downloading threadpoolctl-3.1.0-py3-none-any.whl (14 kB)\n",
      "Installing collected packages: typing-extensions, tifffile, threadpoolctl, PyWavelets, pillow, opencv-python-headless, networkx, lazy_loader, joblib, scikit-learn, imageio, scikit-image, qudida, albumentations\n",
      "Successfully installed PyWavelets-1.4.1 albumentations-1.3.1 imageio-2.31.1 joblib-1.3.1 lazy_loader-0.3 networkx-3.1 opencv-python-headless-4.8.0.74 pillow-10.0.0 qudida-0.0.4 scikit-image-0.21.0 scikit-learn-1.3.0 threadpoolctl-3.1.0 tifffile-2023.7.4 typing-extensions-4.7.1\n"
     ]
    },
    {
     "name": "stdout",
     "output_type": "stream",
     "text": [
      "Collecting opencv-python\n",
      "  Downloading opencv_python-4.8.0.74-cp37-abi3-win_amd64.whl (38.1 MB)\n",
      "                                              0.0/38.1 MB ? eta -:--:--\n",
      "     ----                                     4.4/38.1 MB 92.8 MB/s eta 0:00:01\n",
      "     ----------                              9.8/38.1 MB 126.0 MB/s eta 0:00:01\n",
      "     ---------------                        15.2/38.1 MB 131.2 MB/s eta 0:00:01\n",
      "     --------------------                   20.9/38.1 MB 110.0 MB/s eta 0:00:01\n",
      "     --------------------------             26.3/38.1 MB 110.0 MB/s eta 0:00:01\n",
      "     -------------------------------        31.9/38.1 MB 108.8 MB/s eta 0:00:01\n",
      "     ------------------------------------   36.6/38.1 MB 131.2 MB/s eta 0:00:01\n",
      "     --------------------------------------  38.1/38.1 MB 93.0 MB/s eta 0:00:01\n",
      "     --------------------------------------  38.1/38.1 MB 93.0 MB/s eta 0:00:01\n",
      "     --------------------------------------  38.1/38.1 MB 93.0 MB/s eta 0:00:01\n",
      "     --------------------------------------- 38.1/38.1 MB 43.5 MB/s eta 0:00:00\n",
      "Requirement already satisfied: numpy>=1.21.2 in c:\\users\\shoh\\appdata\\local\\programs\\python\\python311\\lib\\site-packages (from opencv-python) (1.25.1)\n",
      "Installing collected packages: opencv-python\n",
      "Successfully installed opencv-python-4.8.0.74\n",
      "Collecting matplotlib\n",
      "  Downloading matplotlib-3.7.2-cp311-cp311-win_amd64.whl (7.5 MB)\n",
      "                                              0.0/7.5 MB ? eta -:--:--\n",
      "     ----------                               1.9/7.5 MB 41.2 MB/s eta 0:00:01\n",
      "     -------------------------------          6.0/7.5 MB 64.1 MB/s eta 0:00:01\n",
      "     ---------------------------------------  7.5/7.5 MB 68.7 MB/s eta 0:00:01\n",
      "     ---------------------------------------- 7.5/7.5 MB 53.5 MB/s eta 0:00:00\n",
      "Collecting contourpy>=1.0.1 (from matplotlib)\n",
      "  Downloading contourpy-1.1.0-cp311-cp311-win_amd64.whl (470 kB)\n",
      "                                              0.0/470.9 kB ? eta -:--:--\n",
      "     ---------------------------------------- 470.9/470.9 kB ? eta 0:00:00\n",
      "Collecting cycler>=0.10 (from matplotlib)\n",
      "  Downloading cycler-0.11.0-py3-none-any.whl (6.4 kB)\n",
      "Collecting fonttools>=4.22.0 (from matplotlib)\n",
      "  Downloading fonttools-4.40.0-cp311-cp311-win_amd64.whl (1.9 MB)\n",
      "                                              0.0/1.9 MB ? eta -:--:--\n",
      "     ---------------------------------------- 1.9/1.9 MB 60.4 MB/s eta 0:00:00\n",
      "Collecting kiwisolver>=1.0.1 (from matplotlib)\n",
      "  Downloading kiwisolver-1.4.4-cp311-cp311-win_amd64.whl (55 kB)\n",
      "                                              0.0/55.4 kB ? eta -:--:--\n",
      "     ---------------------------------------- 55.4/55.4 kB 3.0 MB/s eta 0:00:00\n",
      "Requirement already satisfied: numpy>=1.20 in c:\\users\\shoh\\appdata\\local\\programs\\python\\python311\\lib\\site-packages (from matplotlib) (1.25.1)\n",
      "Requirement already satisfied: packaging>=20.0 in c:\\users\\shoh\\appdata\\local\\programs\\python\\python311\\lib\\site-packages (from matplotlib) (23.1)\n",
      "Requirement already satisfied: pillow>=6.2.0 in c:\\users\\shoh\\appdata\\local\\programs\\python\\python311\\lib\\site-packages (from matplotlib) (10.0.0)\n",
      "Collecting pyparsing<3.1,>=2.3.1 (from matplotlib)\n",
      "  Downloading pyparsing-3.0.9-py3-none-any.whl (98 kB)\n",
      "                                              0.0/98.3 kB ? eta -:--:--\n",
      "     ---------------------------------------- 98.3/98.3 kB ? eta 0:00:00\n",
      "Requirement already satisfied: python-dateutil>=2.7 in c:\\users\\shoh\\appdata\\local\\programs\\python\\python311\\lib\\site-packages (from matplotlib) (2.8.2)\n",
      "Requirement already satisfied: six>=1.5 in c:\\users\\shoh\\appdata\\local\\programs\\python\\python311\\lib\\site-packages (from python-dateutil>=2.7->matplotlib) (1.16.0)\n",
      "Installing collected packages: pyparsing, kiwisolver, fonttools, cycler, contourpy, matplotlib\n",
      "Successfully installed contourpy-1.1.0 cycler-0.11.0 fonttools-4.40.0 kiwisolver-1.4.4 matplotlib-3.7.2 pyparsing-3.0.9\n",
      "Requirement already satisfied: Pillow in c:\\users\\shoh\\appdata\\local\\programs\\python\\python311\\lib\\site-packages (10.0.0)\n"
     ]
    },
    {
     "name": "stderr",
     "output_type": "stream",
     "text": [
      "ERROR: Could not find a version that satisfies the requirement sckit-learn (from versions: none)\n",
      "ERROR: No matching distribution found for sckit-learn\n"
     ]
    },
    {
     "name": "stdout",
     "output_type": "stream",
     "text": [
      "Collecting seaborn\n",
      "  Downloading seaborn-0.12.2-py3-none-any.whl (293 kB)\n",
      "                                              0.0/293.3 kB ? eta -:--:--\n",
      "     -------------------------------------- 293.3/293.3 kB 9.1 MB/s eta 0:00:00\n",
      "Requirement already satisfied: numpy!=1.24.0,>=1.17 in c:\\users\\shoh\\appdata\\local\\programs\\python\\python311\\lib\\site-packages (from seaborn) (1.25.1)\n",
      "Requirement already satisfied: pandas>=0.25 in c:\\users\\shoh\\appdata\\local\\programs\\python\\python311\\lib\\site-packages (from seaborn) (2.0.3)\n",
      "Requirement already satisfied: matplotlib!=3.6.1,>=3.1 in c:\\users\\shoh\\appdata\\local\\programs\\python\\python311\\lib\\site-packages (from seaborn) (3.7.2)\n",
      "Requirement already satisfied: contourpy>=1.0.1 in c:\\users\\shoh\\appdata\\local\\programs\\python\\python311\\lib\\site-packages (from matplotlib!=3.6.1,>=3.1->seaborn) (1.1.0)\n",
      "Requirement already satisfied: cycler>=0.10 in c:\\users\\shoh\\appdata\\local\\programs\\python\\python311\\lib\\site-packages (from matplotlib!=3.6.1,>=3.1->seaborn) (0.11.0)\n",
      "Requirement already satisfied: fonttools>=4.22.0 in c:\\users\\shoh\\appdata\\local\\programs\\python\\python311\\lib\\site-packages (from matplotlib!=3.6.1,>=3.1->seaborn) (4.40.0)\n",
      "Requirement already satisfied: kiwisolver>=1.0.1 in c:\\users\\shoh\\appdata\\local\\programs\\python\\python311\\lib\\site-packages (from matplotlib!=3.6.1,>=3.1->seaborn) (1.4.4)\n",
      "Requirement already satisfied: packaging>=20.0 in c:\\users\\shoh\\appdata\\local\\programs\\python\\python311\\lib\\site-packages (from matplotlib!=3.6.1,>=3.1->seaborn) (23.1)\n",
      "Requirement already satisfied: pillow>=6.2.0 in c:\\users\\shoh\\appdata\\local\\programs\\python\\python311\\lib\\site-packages (from matplotlib!=3.6.1,>=3.1->seaborn) (10.0.0)\n",
      "Requirement already satisfied: pyparsing<3.1,>=2.3.1 in c:\\users\\shoh\\appdata\\local\\programs\\python\\python311\\lib\\site-packages (from matplotlib!=3.6.1,>=3.1->seaborn) (3.0.9)\n",
      "Requirement already satisfied: python-dateutil>=2.7 in c:\\users\\shoh\\appdata\\local\\programs\\python\\python311\\lib\\site-packages (from matplotlib!=3.6.1,>=3.1->seaborn) (2.8.2)\n",
      "Requirement already satisfied: pytz>=2020.1 in c:\\users\\shoh\\appdata\\local\\programs\\python\\python311\\lib\\site-packages (from pandas>=0.25->seaborn) (2023.3)\n",
      "Requirement already satisfied: tzdata>=2022.1 in c:\\users\\shoh\\appdata\\local\\programs\\python\\python311\\lib\\site-packages (from pandas>=0.25->seaborn) (2023.3)\n",
      "Requirement already satisfied: six>=1.5 in c:\\users\\shoh\\appdata\\local\\programs\\python\\python311\\lib\\site-packages (from python-dateutil>=2.7->matplotlib!=3.6.1,>=3.1->seaborn) (1.16.0)\n",
      "Installing collected packages: seaborn\n",
      "Successfully installed seaborn-0.12.2\n",
      "Requirement already satisfied: pyyaml in c:\\users\\shoh\\appdata\\local\\programs\\python\\python311\\lib\\site-packages (6.0)\n"
     ]
    }
   ],
   "source": [
    "#!pip install pandas\n",
    "#!pip install numpy\n",
    "#!pip install scipy\n",
    "#!pip install tqdm\n",
    "#!pip install albumentations\n",
    "#!pip install opencv-python\n",
    "#!pip install matplotlib\n",
    "#!pip install Pillow\n",
    "#!pip install seaborn\n",
    "#!pip install pyyaml\n",
    "#!pip install scikit-learn\n",
    "#!pip install openpyxl"
   ]
  },
  {
   "cell_type": "markdown",
   "id": "56de032a",
   "metadata": {},
   "source": [
    "## 0. 모든 칼럼 출력"
   ]
  },
  {
   "cell_type": "code",
   "execution_count": 2,
   "id": "d0fd26f4",
   "metadata": {},
   "outputs": [
    {
     "name": "stdout",
     "output_type": "stream",
     "text": [
      "Total number of columns: 199\n",
      "수술일\n",
      "병록번호\n",
      "성별\n",
      "나이\n",
      "좌우\n",
      "MMG_시행일 \n",
      "MMG_판독문\n",
      "MMG_\n",
      "pattern(1,2,3,4,)\n",
      "MMG_Location\n",
      "MMG_size(mm)\n",
      "MMG_0. negative 1. mass 2. calcifiation 3. architectural distortion 4. Mass with calcification 5. asymmetry\n",
      "MMG_LN    No 0 Yes 1 borderline 2\n",
      "MMG_BIRADS category\n",
      "MMG( after chemo)_\n",
      "시행일 \n",
      "MMG( after chemo)_\n",
      "판독문\n",
      "MMG( after chemo)_\n",
      "pattern(1,2,3,4,)\n",
      "MMG( after chemo)_\n",
      "Location\n",
      "MMG( after chemo)_\n",
      "size\n",
      "MMG( after chemo)_0. negative 1. mass 2. calcifiation 3.architectural distortion 4. Mass with calcification 5, asymmetry\n",
      "MMG( after chemo)_LN     No 0 Yes 1 borderline 2\n",
      "MMG( after chemo)_BIRADS category\n",
      "US_시행일 \n",
      "US_판독문\n",
      "US_Location\n",
      "US_size (mm)\n",
      " US_ 0. negative 1. mass 2. calcifiation 3. Mass with calcification 4. other\n",
      "US_LN        No 0 Yes 1 borderline 2\n",
      "US_BIRADS category _1-1, 2-2, 3-3, 4A-4, 4B-5, 4C-6, 5-7, 6-8\n",
      "US( after chemo)_\n",
      "시행일 \n",
      "US( after chemo)_\n",
      "판독문\n",
      "US( after chemo)_\n",
      "Location\n",
      "US( after chemo)_\n",
      "size (mm)\n",
      "US( after chemo)_\n",
      "0. negative  1. mass 2. calcifiation 3. Mass with calcification\n",
      "US( after chemo)_\n",
      "LN             No 0 Yes 1 borderline 2\n",
      "US( after chemo)_\n",
      "BIRADS category\n",
      "MRI_시행일 \n",
      "MRI_판독문\n",
      "MRI_cancer 위치\n",
      "MRI_nipple에서 거리(mm)\n",
      "MRI_chest wall에서 거리(mm)\n",
      "MRI_size(mm)\n",
      "MRI_1.mass 2. NMLE\n",
      "MRI_LN\n",
      "MRI_BIRADS category\n",
      "MRI( after chemo)_\n",
      "시행일 \n",
      "MRI( after chemo)_판독문\n",
      "MRI( after chemo)_\n",
      "cancer 위치\n",
      "MRI( after chemo)_\n",
      "nipple에서 거리(mm)\n",
      "MRI( after chemo)_\n",
      "chest wall에서 거리(mm)\n",
      "MRI( after chemo)_\n",
      "size(mm)\n",
      "MRI( after chemo)_\n",
      "1.mass 2. NMLE\n",
      "MRI( after chemo)__LN\n",
      "MRI( after chemo)__\n",
      "BIRADS category\n",
      "2nd look US/ 2nd look - US Breast Shearwave Elastography, US breast elastography\n",
      "2nd look US date /US Breast Shearwave Elastography, US breast elastography\n",
      "F/U MRI\n",
      "F/U MRI date\n",
      "breast Biopsy_시행일\n",
      "breast Biopsy_판독문\n",
      "breast Biopsy_Biopsy 병리번호\n",
      "breast Biopsy_Biopsy 결과 \n",
      "Axilla Biopsy_시행일\n",
      "Axilla Biopsy_판독문\n",
      "Axilla Biopsy_Biopsy 병리번호\n",
      "Axilla Biopsy_Biopsy 결과\n",
      "유방수술\n",
      "ALN\n",
      "특이소견\n",
      "PST_1\n",
      " Op date_수술날짜\n",
      " Op date_수술병리결과\n",
      " Op date_size(mm)\n",
      " Op date_skin \n",
      "Op date_chest wall\n",
      " Op date_Grade\n",
      " Op date_DCIS\n",
      " Op date_LCIS\n",
      " Op date_margin\n",
      " Op date_LN\n",
      " Op date_venous invasion\n",
      " Op date_Lymphatic invasion \n",
      " Op date_Paget disease\n",
      " Op date_Pagetoid spread to nipple\n",
      " Op date_Involvement of lactiferous duct\n",
      " Op date_Centralizing necrosis\n",
      " Op date_Necrosis\n",
      " Op date_Perineural invasion\n",
      " Op date_Osteoclast-like giant cells\n",
      " Op date_Lymphoplasmacytic reaction\n",
      " Op date_Lymphoplasmacytic infiltration\n",
      " Op date_tumor border\n",
      " Op date_microcalcifictions\n",
      "면역조직화학검사(수술후)_ER               Negative 0 Postive 1\n",
      "수술후면역조\n",
      "직검사_ER%\n",
      "면역조직화학검사(수술후)_PR                          Negative 0 Postive 1\n",
      "수술후면역조\n",
      "직검사_PR%\n",
      "면역조직화학검사(수술후)_C-erbB2\n",
      "면역조직화학검사(수술후)_p53\n",
      "면역조직화학검사(수술후)_Ki-67\n",
      "면역조직화학검사(수술후)_Ck5/6\n",
      "면역조직화학검사(수술후)_EGFR\n",
      "면역조직화학검사(수술후)_Androgen receptor\n",
      "면역조직화학검사(수술후)_CD24\n",
      "면역조직화학검사(수술후)_CD31\n",
      "면역조직화학검사(수술후)_CD44\n",
      "면역조직화학검사(수술후)_CD34\n",
      "면역조직화학검사(수술후)_CD56\n",
      "면역조직화학검사(수술후)_Cyclin D1\n",
      "면역조직화학검사(수술후)_ALDH1\n",
      "면역조직화학검사(수술후)_ C-cadherin \n",
      "면역조직화학검사(수술후)_E-cadherin              \n",
      "면역조직화학검사(수술후)_GCDFP-15\n",
      "면역조직화학검사(수술후)_Cytokeratin\n",
      "면역조직화학검사(수술후)_p63\n",
      "면역조직화학검사(수술후)_p64\n",
      "면역조직화학검사(수술후)_Cox-2\n",
      "면역조직화학검사(수술후)_SMA\n",
      "면역조직화학검사(수술후)_S100A4\n",
      "면역조직화학검사(수술후)_Qcalponin\n",
      "면역조직화학검사(수술후)_bcl-2\n",
      "면역조직화학검사(수술후)_VT\n",
      "면역조직화학검사(수술후)_HMWCK\n",
      "면역조직화학검사(수술후)_S-101\n",
      "면역조직화학검사(수술후)_NSE\n",
      "면역조직화학검사(수술후)_CK7\n",
      "면역조직화학검사(수술후)_CK19\n",
      "면역조직화학검사(수술후)_CK\n",
      "면역조직화학검사(수술후)_C-kit\n",
      "면역조직화학검사(수술후)_B-catenin\n",
      "면역조직화학검사(수술후)_LCA\n",
      "면역조직화학검사(수술후)_Vimentin\n",
      "면역조직화학검사(수술후)_Synaptophysin\n",
      "면역조직화학검사(수술후)_D2-40\n",
      "면역조직화학검사(수술후)_EMA\n",
      "면역조직화학검사(수술후)_HMB-45\n",
      "면역조직화학검사(수술후)_ IgG4\n",
      "Molecular subtype(1 : luminal A, 2 : luminal B, 3: Her2 positive, 4: Triple negative)\n",
      "Her2    Negative 0 Positive 1\n",
      "조직형\n",
      "Tumor\n",
      "Node\n",
      "Meta\n",
      "ER\n",
      "PR\n",
      "Her2\n",
      "확인\n",
      "FISH\n",
      "F/U\n",
      "외부환자\n",
      "IBTR\n",
      "외래차트 (외래초진)_\n",
      "Previous Breast Cancer History\n",
      "외래차트 (외래초진)_\n",
      "Prior Breast Biopsy For Be\n",
      "외래차트 (외래초진)_\n",
      "Breast Cancer Screening\n",
      "외래차트 (외래초진)_\n",
      "Screening Interval\n",
      "외래차트 (외래초진)_\n",
      "Previous Breast Augmentation\n",
      "외래차트 (외래초진)_\n",
      "History Of Ovary Cancer\n",
      "외래차트 (외래초진)_\n",
      "Rt For Any Previous\n",
      "외래차트 \n",
      "(외래초진)_Dm\n",
      "외래차트 \n",
      "(외래초진)_Tb\n",
      "외래차트 \n",
      "(외래초진)_Ht\n",
      "외래차트 (외래초진)_\n",
      "Hepatitis\n",
      "외래차트 (외래초진)_\n",
      "Smoking\n",
      "외래차트 (외래초진)_\n",
      "Pack Year\n",
      "외래차트 (외래초진)_\n",
      "Alcohol\n",
      "외래차트 (외래초진)_\n",
      "Education\n",
      "외래차트 (외래초진)_\n",
      "Economic Status\n",
      "외래차트 (외래초진)_\n",
      "Occupation\n",
      "외래차트 (외래초진)_\n",
      "Weight\n",
      "외래차트 (외래초진)_\n",
      "Height\n",
      "외래차트 (외래초진)_\n",
      "Age At Menarche\n",
      "외래차트 (외래초진)_\n",
      "Menstrual Status\n",
      "외래차트 (외래초진)_\n",
      "Age at menopause (years old)  [99: Unknown]\n",
      "외래차트 (외래초진)_\n",
      "Menstrual Cycle\n",
      "외래차트 (외래초진)_\n",
      "Menstrual Period\n",
      "외래차트 (외래초진)_\n",
      "Ever Married\n",
      "외래차트 (외래초진)_ \n",
      "Age At Birth \n",
      "Of First Baby\n",
      "외래차트 (외래초진)_\n",
      "Number Of Children\n",
      "외래차트 (외래초진)_\n",
      "History Of Breast Feeding\n",
      "외래차트 (외래초진)_\n",
      "Hysterectomy\n",
      "외래차트 (외래초진)_\n",
      "Oophorectomy\n",
      "외래차트 (외래초진)_\n",
      "Oral Pill\n",
      "외래차트 \n",
      "(외래초진)_Hrt\n",
      "외래차트 (외래초진)_\n",
      "Tamoxifen Or Raloxifene\n",
      "외래차트 (외래초진)_\n",
      "Family History \n",
      "Of Breast Ca\n",
      "외래차트 (외래초진)_\n",
      "Family History Of Ovarian Ca\n",
      "외래차트 (외래초진)_\n",
      "Family History Of Other Ca\n",
      "외래차트 (외래초진)_\n",
      "Relationship With The Pat\n",
      "외래차트 (외래초진)_\n",
      "Type Of The Cancer\n",
      "외래차트 (외래초진)_\n",
      "Breast\n",
      "외래차트 (외래초진)_\n",
      "Type Of Physical Finding\n",
      "Mass Location\n",
      "Size Of Tumor\n",
      "Lymph Node\n",
      "Primary Means \n",
      "Of Diagnosis\n",
      "Extension To\n",
      "The Chest Wall\n",
      "Edema\n",
      "Ulcerration\n",
      "Satellite Skin \n",
      "Nodules\n",
      "Inflammatory \n",
      "Breast Cancer\n"
     ]
    }
   ],
   "source": [
    "import pandas as pd\n",
    "import numpy as np\n",
    "\n",
    "# xlsx 파일 경로\n",
    "file_path = \"C:/Users/shOh/Dropbox/Projects/Breast_Cancer_Segmentation/Breast_Cancer/SNUBH_Breast/001~100/1~100.xlsx\"\n",
    "\n",
    "# xlsx 파일 읽기\n",
    "df = pd.read_excel(file_path)\n",
    "\n",
    "# 칼럼의 총 개수 출력\n",
    "\n",
    "columns = df.columns.tolist()\n",
    "num_columns = len(columns)\n",
    "print(f\"Total number of columns: {num_columns}\")\n",
    "\n",
    "# 첫 번째 행의 모든 칼럼을 한 줄씩 출력\n",
    "for column in columns:\n",
    "    print(column)"
   ]
  },
  {
   "cell_type": "markdown",
   "id": "c6da205d",
   "metadata": {},
   "source": [
    "## 1. 동일 환자 정보 유무 확인"
   ]
  },
  {
   "cell_type": "code",
   "execution_count": 2,
   "id": "823e98a4",
   "metadata": {},
   "outputs": [
    {
     "name": "stdout",
     "output_type": "stream",
     "text": [
      "2번째 열의 unique-value 개수: 100\n"
     ]
    }
   ],
   "source": [
    "# 병록번호 unique-value의 개수 확인\n",
    "unique_count = df.iloc[:, 1].nunique()\n",
    "\n",
    "print(f\"2번째 열의 unique-value 개수: {unique_count}\")"
   ]
  },
  {
   "cell_type": "markdown",
   "id": "c423550c",
   "metadata": {},
   "source": [
    "## 2. 성별 비율 확인"
   ]
  },
  {
   "cell_type": "code",
   "execution_count": 3,
   "id": "95a9d860",
   "metadata": {},
   "outputs": [
    {
     "name": "stdout",
     "output_type": "stream",
     "text": [
      "3번째 열의 결측값 개수: 0\n",
      "gender\n",
      "여성    100\n",
      "Name: count, dtype: int64\n"
     ]
    }
   ],
   "source": [
    "# 3번째 열의 결측값 확인\n",
    "missing_values = df.iloc[:, 2].isnull().sum()\n",
    "print(f\"3번째 열의 결측값 개수: {missing_values}\")\n",
    "\n",
    "# 3번째 열의 값이 여성인지 남성인지 확인\n",
    "df['gender'] = df.iloc[:, 2].str.lower()\n",
    "df['gender'] = df['gender'].apply(lambda x: '여성' if x in ['f', 'female'] else '남성' if x in ['m', 'male'] else '알 수 없음')\n",
    "\n",
    "# 결과 출력\n",
    "print(df['gender'].value_counts())"
   ]
  },
  {
   "cell_type": "markdown",
   "id": "27a27de0",
   "metadata": {},
   "source": [
    "## 3. 나이대 분포 확인"
   ]
  },
  {
   "cell_type": "code",
   "execution_count": 4,
   "id": "b3353221",
   "metadata": {},
   "outputs": [
    {
     "name": "stdout",
     "output_type": "stream",
     "text": [
      "나이\n",
      "10대     0\n",
      "20대     0\n",
      "30대    10\n",
      "40대    44\n",
      "50대    29\n",
      "60대    12\n",
      "70대     4\n",
      "80대     1\n",
      "90대     0\n",
      "Name: count, dtype: int64\n",
      "총 환자 수: 100\n",
      "환자 수가 총 100명입니다.\n"
     ]
    }
   ],
   "source": [
    "# 4번째 열의 나이 값에 대한 나이대 정보 생성\n",
    "age_range = pd.cut(df.iloc[:, 3], bins=[10, 20, 30, 40, 50, 60, 70, 80, 90, 100], labels=['10대', '20대', '30대', '40대', '50대', '60대', '70대', '80대', '90대'])\n",
    "\n",
    "# 각 나이대별로 환자의 수 계산\n",
    "age_count = age_range.value_counts().sort_index()\n",
    "\n",
    "# 모든 나이대의 환자 수 합계 계산\n",
    "total_count = age_count.sum()\n",
    "\n",
    "# 결과 출력\n",
    "print(age_count)\n",
    "print(\"총 환자 수:\", total_count)\n",
    "\n",
    "# 모든 나이대의 환자 수가 100명인지 확인\n",
    "if total_count == 100:\n",
    "    print(\"환자 수가 총 100명입니다.\")\n",
    "else:\n",
    "    print(\"환자 수가 총 100명이 아닙니다.\")"
   ]
  },
  {
   "cell_type": "markdown",
   "id": "1225b156",
   "metadata": {},
   "source": [
    "## 4. 유방암 위치 정보(좌우, 5열) 확인"
   ]
  },
  {
   "cell_type": "code",
   "execution_count": 5,
   "id": "7ec2266a",
   "metadata": {},
   "outputs": [
    {
     "name": "stdout",
     "output_type": "stream",
     "text": [
      "암 위치\n",
      "우측    56\n",
      "좌측    44\n",
      "Name: count, dtype: int64\n"
     ]
    }
   ],
   "source": [
    "# 5번째 열의 암 위치 정보에 대한 처리\n",
    "df['암 위치'] = df.iloc[:, 4].str.upper().str.strip().map({'R': '우측', 'L': '좌측'})\n",
    "\n",
    "# 암 위치별로 환자 수 계산\n",
    "cancer_location_count = df['암 위치'].value_counts()\n",
    "\n",
    "# 결과 출력\n",
    "print(cancer_location_count)"
   ]
  },
  {
   "cell_type": "markdown",
   "id": "7cd5cbe3",
   "metadata": {},
   "source": [
    "## 5. 좌우(5열), MMG_Location(9열), MRI_cancer(38열) 값 비교"
   ]
  },
  {
   "cell_type": "code",
   "execution_count": 6,
   "id": "ed2e3d1b",
   "metadata": {},
   "outputs": [
    {
     "name": "stdout",
     "output_type": "stream",
     "text": [
      "값이 서로 다른 행이 존재하지 않습니다.\n"
     ]
    }
   ],
   "source": [
    "# 5번째 열(좌우), 9번째 열(MMG_Location), 38번째 열(MRI_cancer 위치)의 값을 비교하여 다른 값이 있는지 확인\n",
    "different_rows = []\n",
    "for index, row in df.iterrows():\n",
    "    value_5th = str(row[4]).lower()\n",
    "    value_9th = str(row[8]).lower()\n",
    "    value_38th = str(row[37]).lower()\n",
    "    if value_5th != value_9th or value_5th != value_38th or value_9th != value_38th:\n",
    "        different_rows.append(index)\n",
    "\n",
    "# 다른 값이 있는 경우 개수와 인덱스 출력\n",
    "if len(different_rows) > 0:\n",
    "    print(\"값이 서로 다른 행의 개수:\", len(different_rows))\n",
    "    print(\"값이 서로 다른 행의 인덱스:\", different_rows)\n",
    "else:\n",
    "    print(\"값이 서로 다른 행이 존재하지 않습니다.\")"
   ]
  },
  {
   "cell_type": "markdown",
   "id": "efed3008",
   "metadata": {},
   "source": [
    "## 6. MMG_Pattern(8열) 확인"
   ]
  },
  {
   "cell_type": "code",
   "execution_count": 7,
   "id": "4b2cac49",
   "metadata": {},
   "outputs": [
    {
     "name": "stdout",
     "output_type": "stream",
     "text": [
      "결측치가 있는 행의 개수: 4\n",
      "결측치가 있는 행의 인덱스: Index([12, 16, 74, 82], dtype='int64')\n",
      "값 개수:\n",
      "MMG_\\npattern(1,2,3,4,)\n",
      "3.0    65\n",
      "4.0    16\n",
      "2.0    14\n",
      "1.0     1\n",
      "Name: count, dtype: int64\n"
     ]
    }
   ],
   "source": [
    "# 8번째 열 MMG_Pattern의 결측치 개수 계산\n",
    "missing_values = df.iloc[:, 7].isnull().sum()\n",
    "\n",
    "# 8번째 열 MMG_Pattern의 각 값 개수 계산\n",
    "value_counts = df.iloc[:, 7].value_counts()\n",
    "\n",
    "# 결측치가 있는 행의 개수와 인덱스 출력\n",
    "if missing_values > 0:\n",
    "    missing_rows = df[df.iloc[:, 7].isnull()].index\n",
    "    print(\"결측치가 있는 행의 개수:\", len(missing_rows))\n",
    "    print(\"결측치가 있는 행의 인덱스:\", missing_rows)\n",
    "\n",
    "# 결과 출력\n",
    "print(\"값 개수:\")\n",
    "print(value_counts)"
   ]
  },
  {
   "cell_type": "markdown",
   "id": "68d663df",
   "metadata": {},
   "source": [
    "## 7. MMG_Size(10열) 값 분포 확인"
   ]
  },
  {
   "cell_type": "code",
   "execution_count": 8,
   "id": "04c7a112",
   "metadata": {},
   "outputs": [
    {
     "name": "stdout",
     "output_type": "stream",
     "text": [
      "결측치가 존재하는 행의 개수: 9\n",
      "결측치가 존재하는 행의 인덱스: [12, 17, 31, 35, 41, 52, 64, 86, 97]\n",
      "10번째 열의 최소값: 6.0\n",
      "10번째 열의 최대값: 99.0\n",
      "10번째 열의 평균값: 27.054945054945055\n",
      "10번째 열의 중앙값 (결측치 제외): 22.0\n"
     ]
    }
   ],
   "source": [
    "# 10번째 열의 결측치 확인 및 결측치 개수 출력\n",
    "missing_rows = df[df.iloc[:, 9].isnull()]\n",
    "if not missing_rows.empty:\n",
    "    print(\"결측치가 존재하는 행의 개수:\", len(missing_rows))\n",
    "    print(\"결측치가 존재하는 행의 인덱스:\", missing_rows.index.tolist())\n",
    "else:\n",
    "    print(\"결측치가 존재하지 않습니다.\")\n",
    "\n",
    "# 10번째 열의 최소값, 최대값, 평균값, 중앙값 출력\n",
    "column_10th = df.iloc[:, 9]\n",
    "min_value = np.min(column_10th)\n",
    "max_value = np.max(column_10th)\n",
    "mean_value = np.mean(column_10th)\n",
    "\n",
    "print(\"10번째 열의 최소값:\", min_value)\n",
    "print(\"10번째 열의 최대값:\", max_value)\n",
    "print(\"10번째 열의 평균값:\", mean_value)\n",
    "\n",
    "# 10번째 열의 결측치를 제외한 중앙값 출력\n",
    "column_10th = df.iloc[:, 9]\n",
    "median_value = np.nanmedian(column_10th)\n",
    "\n",
    "print(\"10번째 열의 중앙값 (결측치 제외):\", median_value)"
   ]
  },
  {
   "cell_type": "markdown",
   "id": "cdb238b4",
   "metadata": {},
   "source": [
    "## 8. MMG type(11열) 확인"
   ]
  },
  {
   "cell_type": "code",
   "execution_count": 9,
   "id": "0a3daf68",
   "metadata": {},
   "outputs": [
    {
     "name": "stdout",
     "output_type": "stream",
     "text": [
      "결측치 개수: 2\n",
      "결측치가 있는 행: Index([17, 35], dtype='int64')\n",
      "유니크 값 개수: 7\n",
      "유니크 값:\n",
      "[1 2 5 4 nan 3 '1,5']\n",
      "각 유니크 값에 해당하는 행 수:\n",
      "MMG_0. negative 1. mass 2. calcifiation 3. architectural distortion 4. Mass with calcification 5. asymmetry\n",
      "1      60\n",
      "4      18\n",
      "2      12\n",
      "5       6\n",
      "3       1\n",
      "1,5     1\n",
      "Name: count, dtype: int64\n"
     ]
    }
   ],
   "source": [
    "# 11열의 결측치 개수 확인\n",
    "missing_values = df.iloc[:, 10].isnull().sum()\n",
    "print(\"결측치 개수:\", missing_values)\n",
    "\n",
    "# 결측치가 있는 행의 인덱스 출력\n",
    "missing_rows = df[df.iloc[:, 10].isnull()].index\n",
    "print(\"결측치가 있는 행:\", missing_rows)\n",
    "\n",
    "# 11열의 유니크 값과 개수 출력\n",
    "unique_values = df.iloc[:, 10].unique()\n",
    "value_counts = df.iloc[:, 10].value_counts()\n",
    "print(\"유니크 값 개수:\", len(unique_values))\n",
    "print(\"유니크 값:\")\n",
    "print(unique_values)\n",
    "print(\"각 유니크 값에 해당하는 행 수:\")\n",
    "print(value_counts)"
   ]
  },
  {
   "cell_type": "markdown",
   "id": "d9efaec6",
   "metadata": {},
   "source": [
    "## 9. MMG_LN(12열) 확인"
   ]
  },
  {
   "cell_type": "code",
   "execution_count": 10,
   "id": "2fb36cc5",
   "metadata": {},
   "outputs": [
    {
     "name": "stdout",
     "output_type": "stream",
     "text": [
      "결측치 개수: 0\n",
      "결측치가 있는 행: Index([], dtype='int64')\n",
      "유니크 값 개수: 2\n",
      "유니크 값:\n",
      "[0 1]\n",
      "각 유니크 값에 해당하는 행 수:\n",
      "MMG_LN    No 0 Yes 1 borderline 2\n",
      "0    88\n",
      "1    12\n",
      "Name: count, dtype: int64\n"
     ]
    }
   ],
   "source": [
    "# 12열의 결측치 개수 확인\n",
    "missing_values = df.iloc[:, 11].isnull().sum()\n",
    "print(\"결측치 개수:\", missing_values)\n",
    "\n",
    "# 결측치가 있는 행의 인덱스 출력\n",
    "missing_rows = df[df.iloc[:, 11].isnull()].index\n",
    "print(\"결측치가 있는 행:\", missing_rows)\n",
    "\n",
    "# 12열의 유니크 값과 개수 출력\n",
    "unique_values = df.iloc[:, 11].unique()\n",
    "value_counts = df.iloc[:, 11].value_counts()\n",
    "print(\"유니크 값 개수:\", len(unique_values))\n",
    "print(\"유니크 값:\")\n",
    "print(unique_values)\n",
    "print(\"각 유니크 값에 해당하는 행 수:\")\n",
    "print(value_counts)"
   ]
  },
  {
   "cell_type": "markdown",
   "id": "5654d37a",
   "metadata": {},
   "source": [
    "## 10. MMG BIRADS cateegory(13열) 확인"
   ]
  },
  {
   "cell_type": "code",
   "execution_count": 11,
   "id": "70ab323a",
   "metadata": {},
   "outputs": [
    {
     "name": "stdout",
     "output_type": "stream",
     "text": [
      "결측치 개수: 1\n",
      "결측치가 있는 행: Index([74], dtype='int64')\n",
      "유니크 값 개수: 6\n",
      "유니크 값:\n",
      "[ 8.  7.  6.  0.  1. nan]\n",
      "각 유니크 값에 해당하는 행 수:\n",
      "MMG_BIRADS category\n",
      "8.0    83\n",
      "7.0     7\n",
      "0.0     7\n",
      "6.0     1\n",
      "1.0     1\n",
      "Name: count, dtype: int64\n"
     ]
    }
   ],
   "source": [
    "# 13열의 결측치 개수 확인\n",
    "missing_values = df.iloc[:, 12].isnull().sum()\n",
    "print(\"결측치 개수:\", missing_values)\n",
    "\n",
    "# 결측치가 있는 행의 인덱스 출력\n",
    "missing_rows = df[df.iloc[:, 12].isnull()].index\n",
    "print(\"결측치가 있는 행:\", missing_rows)\n",
    "\n",
    "# 13열의 유니크 값과 개수 출력\n",
    "unique_values = df.iloc[:, 12].unique()\n",
    "value_counts = df.iloc[:, 12].value_counts()\n",
    "print(\"유니크 값 개수:\", len(unique_values))\n",
    "print(\"유니크 값:\")\n",
    "print(unique_values)\n",
    "print(\"각 유니크 값에 해당하는 행 수:\")\n",
    "print(value_counts)"
   ]
  },
  {
   "cell_type": "markdown",
   "id": "9ed320fb",
   "metadata": {},
   "source": [
    "## 11. MRI_nipple(39열) 값 분포 확인"
   ]
  },
  {
   "cell_type": "code",
   "execution_count": 14,
   "id": "011e246d",
   "metadata": {},
   "outputs": [
    {
     "name": "stdout",
     "output_type": "stream",
     "text": [
      "결측치가 존재하는 행의 개수: 2\n",
      "결측치가 존재하는 행의 인덱스: [71, 90]\n"
     ]
    },
    {
     "ename": "NameError",
     "evalue": "name 'column_39th' is not defined",
     "output_type": "error",
     "traceback": [
      "\u001b[1;31m---------------------------------------------------------------------------\u001b[0m",
      "\u001b[1;31mNameError\u001b[0m                                 Traceback (most recent call last)",
      "Cell \u001b[1;32mIn[14], line 12\u001b[0m\n\u001b[0;32m     10\u001b[0m column_39h \u001b[38;5;241m=\u001b[39m df\u001b[38;5;241m.\u001b[39miloc[:, \u001b[38;5;241m38\u001b[39m]\n\u001b[0;32m     11\u001b[0m min_value \u001b[38;5;241m=\u001b[39m np\u001b[38;5;241m.\u001b[39mmin(column_39h)\n\u001b[1;32m---> 12\u001b[0m max_value \u001b[38;5;241m=\u001b[39m np\u001b[38;5;241m.\u001b[39mmax(\u001b[43mcolumn_39th\u001b[49m)\n\u001b[0;32m     13\u001b[0m mean_value \u001b[38;5;241m=\u001b[39m np\u001b[38;5;241m.\u001b[39mmean(column_39th)\n\u001b[0;32m     15\u001b[0m \u001b[38;5;28mprint\u001b[39m(\u001b[38;5;124m\"\u001b[39m\u001b[38;5;124mMRI_nipple 열의 최소값:\u001b[39m\u001b[38;5;124m\"\u001b[39m, min_value)\n",
      "\u001b[1;31mNameError\u001b[0m: name 'column_39th' is not defined"
     ]
    }
   ],
   "source": [
    "# 39번째 열의 결측치 확인 및 결측치 개수 출력\n",
    "missing_rows = df[df.iloc[:, 38].isnull()]\n",
    "if not missing_rows.empty:\n",
    "    print(\"결측치가 존재하는 행의 개수:\", len(missing_rows))\n",
    "    print(\"결측치가 존재하는 행의 인덱스:\", missing_rows.index.tolist())\n",
    "else:\n",
    "    print(\"결측치가 존재하지 않습니다.\")\n",
    "\n",
    "# 39번째 열의 최소값, 최대값, 평균값, 중앙값 출력\n",
    "column_39h = df.iloc[:, 38]\n",
    "min_value = np.min(column_39h)\n",
    "max_value = np.max(column_39th)\n",
    "mean_value = np.mean(column_39th)\n",
    "\n",
    "print(\"MRI_nipple 열의 최소값:\", min_value)\n",
    "print(\"MRI_nipple 열의 최대값:\", max_value)\n",
    "print(\"MRI_nipple 열의 평균값:\", mean_value)\n",
    "\n",
    "# 39번째 열의 결측치를 제외한 중앙값 출력\n",
    "column_39th = df.iloc[:, 38]\n",
    "median_value = np.nanmedian(column_39th)\n",
    "\n",
    "print(\"MRI_nipple 열의 중앙값 (결측치 제외):\", median_value)"
   ]
  },
  {
   "cell_type": "markdown",
   "id": "bfc4337a",
   "metadata": {},
   "source": [
    "## 12. MRI_chest-wall(40열) 값 분포 확인"
   ]
  },
  {
   "cell_type": "code",
   "execution_count": 41,
   "id": "a8fc3046",
   "metadata": {},
   "outputs": [
    {
     "name": "stdout",
     "output_type": "stream",
     "text": [
      "결측치가 존재하는 행의 개수: 2\n",
      "결측치가 존재하는 행의 인덱스: [30, 82]\n",
      "MRI_chest-wall 열의 최소값: 0.0\n",
      "MRI_chest-wall 열의 최대값: 70.0\n",
      "MRI_chest-wall 열의 평균값: 15.326530612244898\n",
      "MRI_chest-wall열의 중앙값 (결측치 제외): 10.0\n"
     ]
    }
   ],
   "source": [
    "# 40번째 열의 결측치 확인 및 결측치 개수 출력\n",
    "missing_rows = df[df.iloc[:, 39].isnull()]\n",
    "if not missing_rows.empty:\n",
    "    print(\"결측치가 존재하는 행의 개수:\", len(missing_rows))\n",
    "    print(\"결측치가 존재하는 행의 인덱스:\", missing_rows.index.tolist())\n",
    "else:\n",
    "    print(\"결측치가 존재하지 않습니다.\")\n",
    "\n",
    "# 40번째 열의 최소값, 최대값, 평균값, 중앙값 출력\n",
    "column_40 = df.iloc[:, 39]\n",
    "min_value = np.min(column_40)\n",
    "max_value = np.max(column_40)\n",
    "mean_value = np.mean(column_40)\n",
    "\n",
    "print(\"MRI_chest-wall 열의 최소값:\", min_value)\n",
    "print(\"MRI_chest-wall 열의 최대값:\", max_value)\n",
    "print(\"MRI_chest-wall 열의 평균값:\", mean_value)\n",
    "\n",
    "# 40번째 열의 결측치를 제외한 중앙값 출력\n",
    "column_40th = df.iloc[:, 39]\n",
    "median_value = np.nanmedian(column_40th)\n",
    "\n",
    "print(\"MRI_chest-wall열의 중앙값 (결측치 제외):\", median_value)"
   ]
  },
  {
   "cell_type": "markdown",
   "id": "d5a53ebf",
   "metadata": {},
   "source": [
    "## 13. MRI_Size(41열) 값 분포 확인"
   ]
  },
  {
   "cell_type": "code",
   "execution_count": 42,
   "id": "f07924fd",
   "metadata": {},
   "outputs": [
    {
     "name": "stdout",
     "output_type": "stream",
     "text": [
      "결측치가 존재하지 않습니다.\n",
      "MRI_chest-wall 열의 최소값: 6.0\n",
      "MRI_chest-wall 열의 최대값: 94.0\n",
      "MRI_chest-wall 열의 평균값: 25.766\n",
      "MRI_Size열의 중앙값 (결측치 제외): 22.0\n"
     ]
    }
   ],
   "source": [
    "# 41번째 열의 결측치 확인 및 결측치 개수 출력\n",
    "missing_rows = df[df.iloc[:, 40].isnull()]\n",
    "if not missing_rows.empty:\n",
    "    print(\"결측치가 존재하는 행의 개수:\", len(missing_rows))\n",
    "    print(\"결측치가 존재하는 행의 인덱스:\", missing_rows.index.tolist())\n",
    "else:\n",
    "    print(\"결측치가 존재하지 않습니다.\")\n",
    "\n",
    "# 41번째 열의 최소값, 최대값, 평균값, 중앙값 출력\n",
    "column_41 = df.iloc[:, 40]\n",
    "min_value = np.min(column_41)\n",
    "max_value = np.max(column_41)\n",
    "mean_value = np.mean(column_41)\n",
    "\n",
    "print(\"MRI_chest-wall 열의 최소값:\", min_value)\n",
    "print(\"MRI_chest-wall 열의 최대값:\", max_value)\n",
    "print(\"MRI_chest-wall 열의 평균값:\", mean_value)\n",
    "\n",
    "# 41번째 열의 결측치를 제외한 중앙값 출력\n",
    "column_41th = df.iloc[:, 40]\n",
    "median_value = np.nanmedian(column_41th)\n",
    "\n",
    "print(\"MRI_Size열의 중앙값 (결측치 제외):\", median_value)"
   ]
  },
  {
   "cell_type": "markdown",
   "id": "7d72fd73",
   "metadata": {},
   "source": [
    "## 14. MMG_BC 유형(42열) 확인"
   ]
  },
  {
   "cell_type": "code",
   "execution_count": 43,
   "id": "3b3cdcae",
   "metadata": {},
   "outputs": [
    {
     "name": "stdout",
     "output_type": "stream",
     "text": [
      "결측치 개수: 0\n",
      "결측치가 있는 행: Index([], dtype='int64')\n",
      "유니크 값 개수: 3\n",
      "유니크 값:\n",
      "[1 2 '1,2']\n",
      "각 유니크 값에 해당하는 행 수:\n",
      "MRI_1.mass 2. NMLE\n",
      "1      87\n",
      "2      11\n",
      "1,2     2\n",
      "Name: count, dtype: int64\n"
     ]
    }
   ],
   "source": [
    "# 42열의 결측치 개수 확인\n",
    "missing_values = df.iloc[:, 41].isnull().sum()\n",
    "print(\"결측치 개수:\", missing_values)\n",
    "\n",
    "# 결측치가 있는 행의 인덱스 출력\n",
    "missing_rows = df[df.iloc[:, 41].isnull()].index\n",
    "print(\"결측치가 있는 행:\", missing_rows)\n",
    "\n",
    "# 42열의 유니크 값과 개수 출력\n",
    "unique_values = df.iloc[:, 41].unique()\n",
    "value_counts = df.iloc[:, 41].value_counts()\n",
    "print(\"유니크 값 개수:\", len(unique_values))\n",
    "print(\"유니크 값:\")\n",
    "print(unique_values)\n",
    "print(\"각 유니크 값에 해당하는 행 수:\")\n",
    "print(value_counts)"
   ]
  },
  {
   "cell_type": "markdown",
   "id": "c80c5f30",
   "metadata": {},
   "source": [
    "## 15. MRI_LN(43열) 확인"
   ]
  },
  {
   "cell_type": "code",
   "execution_count": 44,
   "id": "55cfd4c0",
   "metadata": {},
   "outputs": [
    {
     "name": "stdout",
     "output_type": "stream",
     "text": [
      "결측치 개수: 0\n",
      "결측치가 있는 행: Index([], dtype='int64')\n",
      "유니크 값 개수: 2\n",
      "유니크 값:\n",
      "[0 1]\n",
      "각 유니크 값에 해당하는 행 수:\n",
      "MRI_LN\n",
      "0    79\n",
      "1    21\n",
      "Name: count, dtype: int64\n"
     ]
    }
   ],
   "source": [
    "# 43열의 결측치 개수 확인\n",
    "missing_values = df.iloc[:, 42].isnull().sum()\n",
    "print(\"결측치 개수:\", missing_values)\n",
    "\n",
    "# 결측치가 있는 행의 인덱스 출력\n",
    "missing_rows = df[df.iloc[:, 42].isnull()].index\n",
    "print(\"결측치가 있는 행:\", missing_rows)\n",
    "\n",
    "# 43열의 유니크 값과 개수 출력\n",
    "unique_values = df.iloc[:, 42].unique()\n",
    "value_counts = df.iloc[:, 42].value_counts()\n",
    "print(\"유니크 값 개수:\", len(unique_values))\n",
    "print(\"유니크 값:\")\n",
    "print(unique_values)\n",
    "print(\"각 유니크 값에 해당하는 행 수:\")\n",
    "print(value_counts)"
   ]
  },
  {
   "cell_type": "markdown",
   "id": "008bc886",
   "metadata": {},
   "source": [
    "## 16. MRI_BIRADS-category(44열) 확인"
   ]
  },
  {
   "cell_type": "code",
   "execution_count": 45,
   "id": "79fe4dba",
   "metadata": {},
   "outputs": [
    {
     "name": "stdout",
     "output_type": "stream",
     "text": [
      "결측치 개수: 0\n",
      "결측치가 있는 행: Index([], dtype='int64')\n",
      "유니크 값 개수: 4\n",
      "유니크 값:\n",
      "[8 4 5 0]\n",
      "각 유니크 값에 해당하는 행 수:\n",
      "MRI_BIRADS category\n",
      "8    97\n",
      "4     1\n",
      "5     1\n",
      "0     1\n",
      "Name: count, dtype: int64\n"
     ]
    }
   ],
   "source": [
    "# 44열의 결측치 개수 확인\n",
    "missing_values = df.iloc[:, 43].isnull().sum()\n",
    "print(\"결측치 개수:\", missing_values)\n",
    "\n",
    "# 결측치가 있는 행의 인덱스 출력\n",
    "missing_rows = df[df.iloc[:, 43].isnull()].index\n",
    "print(\"결측치가 있는 행:\", missing_rows)\n",
    "\n",
    "# 44열의 유니크 값과 개수 출력\n",
    "unique_values = df.iloc[:, 43].unique()\n",
    "value_counts = df.iloc[:, 43].value_counts()\n",
    "print(\"유니크 값 개수:\", len(unique_values))\n",
    "print(\"유니크 값:\")\n",
    "print(unique_values)\n",
    "print(\"각 유니크 값에 해당하는 행 수:\")\n",
    "print(value_counts)"
   ]
  },
  {
   "cell_type": "markdown",
   "id": "a68dc042",
   "metadata": {},
   "source": [
    "## 17. Molecular subtype (137열) 확인(Ground Truth Class Label)"
   ]
  },
  {
   "cell_type": "code",
   "execution_count": 46,
   "id": "f2436c0e",
   "metadata": {},
   "outputs": [
    {
     "name": "stdout",
     "output_type": "stream",
     "text": [
      "결측치 개수: 0\n",
      "결측치가 있는 행: Index([], dtype='int64')\n",
      "유니크 값 개수: 4\n",
      "유니크 값:\n",
      "[1 4 3 2]\n",
      "각 유니크 값에 해당하는 행 수:\n",
      "Molecular subtype(1 : luminal A, 2 : luminal B, 3: Her2 positive, 4: Triple negative)\n",
      "1    45\n",
      "2    28\n",
      "3    14\n",
      "4    13\n",
      "Name: count, dtype: int64\n"
     ]
    }
   ],
   "source": [
    "# 137열의 결측치 개수 확인\n",
    "missing_values = df.iloc[:, 136].isnull().sum()\n",
    "print(\"결측치 개수:\", missing_values)\n",
    "\n",
    "# 결측치가 있는 행의 인덱스 출력\n",
    "missing_rows = df[df.iloc[:, 136].isnull()].index\n",
    "print(\"결측치가 있는 행:\", missing_rows)\n",
    "\n",
    "# 137열의 유니크 값과 개수 출력\n",
    "unique_values = df.iloc[:, 136].unique()\n",
    "value_counts = df.iloc[:, 136].value_counts()\n",
    "print(\"유니크 값 개수:\", len(unique_values))\n",
    "print(\"유니크 값:\")\n",
    "print(unique_values)\n",
    "print(\"각 유니크 값에 해당하는 행 수:\")\n",
    "print(value_counts)"
   ]
  },
  {
   "cell_type": "markdown",
   "id": "470a3b47",
   "metadata": {},
   "source": [
    "## 18. Her2 type(138열) 확인"
   ]
  },
  {
   "cell_type": "code",
   "execution_count": 47,
   "id": "450afc23",
   "metadata": {},
   "outputs": [
    {
     "name": "stdout",
     "output_type": "stream",
     "text": [
      "결측치 개수: 57\n",
      "결측치가 있는 행: Index([ 1,  2,  5,  6,  7,  8,  9, 10, 12, 13, 15, 16, 17, 18, 21, 24, 25, 28,\n",
      "       29, 36, 37, 38, 40, 41, 45, 46, 48, 51, 54, 57, 60, 61, 63, 65, 66, 67,\n",
      "       68, 72, 73, 74, 76, 79, 80, 81, 82, 83, 85, 87, 88, 92, 93, 94, 95, 96,\n",
      "       97, 98, 99],\n",
      "      dtype='int64')\n",
      "유니크 값 개수: 5\n",
      "유니크 값:\n",
      "[0 nan 'Equivocal' 1 'Equivocal ']\n",
      "각 유니크 값에 해당하는 행 수:\n",
      "Her2    Negative 0 Positive 1\n",
      "0             40\n",
      "Equivocal      1\n",
      "1              1\n",
      "Equivocal      1\n",
      "Name: count, dtype: int64\n"
     ]
    }
   ],
   "source": [
    "# 138열의 결측치 개수 확인\n",
    "missing_values = df.iloc[:, 137].isnull().sum()\n",
    "print(\"결측치 개수:\", missing_values)\n",
    "\n",
    "# 결측치가 있는 행의 인덱스 출력\n",
    "missing_rows = df[df.iloc[:, 137].isnull()].index\n",
    "print(\"결측치가 있는 행:\", missing_rows)\n",
    "\n",
    "# 138열의 유니크 값과 개수 출력\n",
    "unique_values = df.iloc[:, 137].unique()\n",
    "value_counts = df.iloc[:, 137].value_counts()\n",
    "print(\"유니크 값 개수:\", len(unique_values))\n",
    "print(\"유니크 값:\")\n",
    "print(unique_values)\n",
    "print(\"각 유니크 값에 해당하는 행 수:\")\n",
    "print(value_counts)"
   ]
  },
  {
   "cell_type": "markdown",
   "id": "fc53e56d",
   "metadata": {},
   "source": [
    "## 19. 조직형, Tumor, Node (139, 140, 141열) 확인 "
   ]
  },
  {
   "cell_type": "code",
   "execution_count": 28,
   "id": "09727a70",
   "metadata": {},
   "outputs": [
    {
     "name": "stdout",
     "output_type": "stream",
     "text": [
      "조직형 칼럼:\n",
      "['IFDC' 'MICROINVASIVE ca(mtp)' 'MICROINVASIVE ca' 'IFDC(x2)' 'IFDC(mtp)'\n",
      " 'IFDC(x3)' 'IFDC(x5)' 'MICROINVASIVE Ca' 'Mixed IFDC&IFLC'\n",
      " 'IFDC(mtp) w/encapsulated papillary ca, ALH, FEA'\n",
      " 'IFDC w/apocrine differentiation']\n",
      "Unique 값 개수: 11\n",
      "Tumor 칼럼:\n",
      "['T2' 'T1mi' 'T1c' 'T1b' 'T3' 'T1a']\n",
      "Unique 값 개수: 6\n",
      "Node 칼럼:\n",
      "['N1a' 'N0(sn)(i-)' 'N0' 'N1mi(sn)' 'N1mi' 'N1a(sn)' 'N0(sn)(i+)' 'N2a'\n",
      " 'N0(sn)(i)' 'N0(sn)' 'Nx' 'N0(i+)(sn)']\n",
      "Unique 값 개수: 12\n"
     ]
    }
   ],
   "source": [
    "# '조직형' 칼럼의 unique 값과 개수 출력\n",
    "print(\"조직형 칼럼:\")\n",
    "print(df['조직형'].unique())\n",
    "print(\"Unique 값 개수:\", df['조직형'].nunique())\n",
    "\n",
    "# 'Tumor' 칼럼의 unique 값과 개수 출력\n",
    "print(\"Tumor 칼럼:\")\n",
    "print(df['Tumor'].unique())\n",
    "print(\"Unique 값 개수:\", df['Tumor'].nunique())\n",
    "\n",
    "# 'Node' 칼럼의 unique 값과 개수 출력\n",
    "print(\"Node 칼럼:\")\n",
    "print(df['Node'].unique())\n",
    "print(\"Unique 값 개수:\", df['Node'].nunique())"
   ]
  },
  {
   "cell_type": "markdown",
   "id": "03b9367d",
   "metadata": {},
   "source": [
    "## 20. ER, PR (143, 144열) 확인"
   ]
  },
  {
   "cell_type": "code",
   "execution_count": 57,
   "id": "d7771651",
   "metadata": {},
   "outputs": [
    {
     "name": "stdout",
     "output_type": "stream",
     "text": [
      "ER 칼럼:\n",
      "['>95' '0' '90' '70' '80' '95' '30' '50' '20']\n",
      "Unique 값 개수: 9\n",
      "PR 칼럼:\n",
      "['40' '0' '90' '50' '70' '95' '20' '<5' '10' '80' '>95' '<1' '30' '<95'\n",
      " '10~50' '60' '5']\n",
      "Unique 값 개수: 17\n"
     ]
    }
   ],
   "source": [
    "# 'ER 칼럼의 unique 값과 개수 출력\n",
    "print(\"ER 칼럼:\")\n",
    "print(df['ER'].unique())\n",
    "print(\"Unique 값 개수:\", df['ER'].nunique())\n",
    "\n",
    "# 'PR' 칼럼의 unique 값과 개수 출력\n",
    "print(\"PR 칼럼:\")\n",
    "print(df['PR'].unique())\n",
    "print(\"Unique 값 개수:\", df['PR'].nunique())"
   ]
  },
  {
   "cell_type": "markdown",
   "id": "974301bd",
   "metadata": {},
   "source": [
    "## 21. Her2 (145열) 확인"
   ]
  },
  {
   "cell_type": "code",
   "execution_count": 49,
   "id": "2d5c844d",
   "metadata": {},
   "outputs": [
    {
     "name": "stdout",
     "output_type": "stream",
     "text": [
      "결측치 개수: 0\n",
      "결측치가 있는 행: Index([], dtype='int64')\n",
      "유니크 값 개수: 4\n",
      "유니크 값:\n",
      "['2+' '0' '3+' '1+']\n",
      "각 유니크 값에 해당하는 행 수:\n",
      "Her2\n",
      "2+    45\n",
      "0     24\n",
      "1+    17\n",
      "3+    14\n",
      "Name: count, dtype: int64\n"
     ]
    }
   ],
   "source": [
    "# 145열의 결측치 개수 확인\n",
    "missing_values = df.iloc[:, 144].isnull().sum()\n",
    "print(\"결측치 개수:\", missing_values)\n",
    "\n",
    "# 결측치가 있는 행의 인덱스 출력\n",
    "missing_rows = df[df.iloc[:, 144].isnull()].index\n",
    "print(\"결측치가 있는 행:\", missing_rows)\n",
    "\n",
    "# 145열의 유니크 값과 개수 출력\n",
    "unique_values = df.iloc[:, 144].unique()\n",
    "value_counts = df.iloc[:, 144].value_counts()\n",
    "print(\"유니크 값 개수:\", len(unique_values))\n",
    "print(\"유니크 값:\")\n",
    "print(unique_values)\n",
    "print(\"각 유니크 값에 해당하는 행 수:\")\n",
    "print(value_counts)"
   ]
  },
  {
   "cell_type": "markdown",
   "id": "3b2aeba8",
   "metadata": {},
   "source": [
    "## 22. FISH (147열) 확인"
   ]
  },
  {
   "cell_type": "code",
   "execution_count": 48,
   "id": "7a7a0e0e",
   "metadata": {},
   "outputs": [
    {
     "name": "stdout",
     "output_type": "stream",
     "text": [
      "결측치 개수: 57\n",
      "결측치가 있는 행: Index([ 1,  2,  5,  6,  7,  8,  9, 10, 12, 13, 15, 16, 17, 18, 21, 24, 25, 28,\n",
      "       29, 36, 37, 38, 40, 41, 45, 46, 48, 51, 54, 57, 60, 61, 63, 65, 66, 67,\n",
      "       68, 72, 73, 74, 76, 79, 80, 81, 82, 83, 85, 87, 88, 92, 93, 94, 95, 96,\n",
      "       97, 98, 99],\n",
      "      dtype='int64')\n",
      "유니크 값 개수: 31\n",
      "유니크 값:\n",
      "[1.29  nan 1.74 1.12 1.31 1.55 1.57 1.14 1.04 1.06 2.37 1.1  1.05 1.36\n",
      " 1.07 1.54 1.35 1.09 0.88 1.2  1.24 1.21 1.08 1.13 1.   1.02 0.84 0.6\n",
      " 1.3  1.5  0.33]\n",
      "각 유니크 값에 해당하는 행 수:\n",
      "FISH\n",
      "1.12    4\n",
      "1.29    3\n",
      "1.14    3\n",
      "1.31    2\n",
      "1.57    2\n",
      "1.08    2\n",
      "1.06    2\n",
      "1.13    2\n",
      "1.10    2\n",
      "1.02    1\n",
      "1.21    1\n",
      "1.00    1\n",
      "0.60    1\n",
      "0.84    1\n",
      "1.20    1\n",
      "1.30    1\n",
      "1.50    1\n",
      "1.24    1\n",
      "1.35    1\n",
      "0.88    1\n",
      "1.09    1\n",
      "1.74    1\n",
      "1.54    1\n",
      "1.07    1\n",
      "1.36    1\n",
      "1.05    1\n",
      "2.37    1\n",
      "1.04    1\n",
      "1.55    1\n",
      "0.33    1\n",
      "Name: count, dtype: int64\n"
     ]
    }
   ],
   "source": [
    "# 147열의 결측치 개수 확인\n",
    "missing_values = df.iloc[:, 146].isnull().sum()\n",
    "print(\"결측치 개수:\", missing_values)\n",
    "\n",
    "# 결측치가 있는 행의 인덱스 출력\n",
    "missing_rows = df[df.iloc[:, 146].isnull()].index\n",
    "print(\"결측치가 있는 행:\", missing_rows)\n",
    "\n",
    "# 147열의 유니크 값과 개수 출력\n",
    "unique_values = df.iloc[:, 146].unique()\n",
    "value_counts = df.iloc[:, 146].value_counts()\n",
    "print(\"유니크 값 개수:\", len(unique_values))\n",
    "print(\"유니크 값:\")\n",
    "print(unique_values)\n",
    "print(\"각 유니크 값에 해당하는 행 수:\")\n",
    "print(value_counts)"
   ]
  }
 ],
 "metadata": {
  "kernelspec": {
   "display_name": "Python 3 (ipykernel)",
   "language": "python",
   "name": "python3"
  },
  "language_info": {
   "codemirror_mode": {
    "name": "ipython",
    "version": 3
   },
   "file_extension": ".py",
   "mimetype": "text/x-python",
   "name": "python",
   "nbconvert_exporter": "python",
   "pygments_lexer": "ipython3",
   "version": "3.11.4"
  }
 },
 "nbformat": 4,
 "nbformat_minor": 5
}
