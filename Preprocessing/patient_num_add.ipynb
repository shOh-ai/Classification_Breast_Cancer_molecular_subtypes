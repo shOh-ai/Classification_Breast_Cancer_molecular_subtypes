{
 "cells": [
  {
   "cell_type": "code",
   "execution_count": 1,
   "metadata": {},
   "outputs": [],
   "source": [
    "import pandas as pd\n",
    "\n",
    "# 엑셀 파일 읽기\n",
    "df = pd.read_excel('/home/osh/data/vlabhufs.ipdisk.co.kr/VOL1/Storage1/Data/SNUBH_Breast/001~100/1~100.xlsx')\n",
    "\n",
    "# 'patient_num' 열을 생성하고 1부터 100까지의 숫자로 채우기\n",
    "df['patient_num'] = [f\"{i:03d}\" for i in range(1, 101)]\n",
    "\n",
    "# 덮어쓰기 모드로 엑셀 파일 저장\n",
    "df.to_excel('/home/osh/data/vlabhufs.ipdisk.co.kr/VOL1/Storage1/Data/SNUBH_Breast/001~100/1~100.xlsx', index=False)"
   ]
  },
  {
   "cell_type": "code",
   "execution_count": 2,
   "metadata": {},
   "outputs": [
    {
     "name": "stdout",
     "output_type": "stream",
     "text": [
      "0    001\n",
      "1    002\n",
      "2    003\n",
      "3    004\n",
      "4    005\n",
      "5    006\n",
      "6    007\n",
      "7    008\n",
      "8    009\n",
      "9    010\n",
      "Name: patient_num, dtype: object\n",
      "90    091\n",
      "91    092\n",
      "92    093\n",
      "93    094\n",
      "94    095\n",
      "95    096\n",
      "96    097\n",
      "97    098\n",
      "98    099\n",
      "99    100\n",
      "Name: patient_num, dtype: object\n"
     ]
    }
   ],
   "source": [
    "# 'patient_num' 열의 처음 10행 출력\n",
    "print(df['patient_num'].head(10))\n",
    "\n",
    "# 'patient_num' 열의 마지막 10행 출력\n",
    "print(df['patient_num'].tail(10))"
   ]
  },
  {
   "cell_type": "code",
   "execution_count": 3,
   "metadata": {},
   "outputs": [],
   "source": [
    "import pandas as pd\n",
    "\n",
    "# 엑셀 파일 읽기\n",
    "df2 = pd.read_excel('/home/osh/data/vlabhufs.ipdisk.co.kr/VOL1/Storage1/Data/SNUBH_Breast/101~200/101~200.xlsx')\n",
    "\n",
    "# 'patient_num' 열을 생성하고 101부터 200까지의 숫자로 채우기\n",
    "df2['patient_num'] = [f\"{i:03d}\" for i in range(101, 201)]\n",
    "\n",
    "# 덮어쓰기 모드로 엑셀 파일 저장\n",
    "df2.to_excel('/home/osh/data/vlabhufs.ipdisk.co.kr/VOL1/Storage1/Data/SNUBH_Breast/101~200/101~200.xlsx', index=False)"
   ]
  },
  {
   "cell_type": "code",
   "execution_count": 4,
   "metadata": {},
   "outputs": [
    {
     "name": "stdout",
     "output_type": "stream",
     "text": [
      "0    101\n",
      "1    102\n",
      "2    103\n",
      "3    104\n",
      "4    105\n",
      "5    106\n",
      "6    107\n",
      "7    108\n",
      "8    109\n",
      "9    110\n",
      "Name: patient_num, dtype: object\n",
      "90    191\n",
      "91    192\n",
      "92    193\n",
      "93    194\n",
      "94    195\n",
      "95    196\n",
      "96    197\n",
      "97    198\n",
      "98    199\n",
      "99    200\n",
      "Name: patient_num, dtype: object\n"
     ]
    }
   ],
   "source": [
    "# 'patient_num' 열의 처음 10행 출력\n",
    "print(df2['patient_num'].head(10))\n",
    "\n",
    "# 'patient_num' 열의 마지막 10행 출력\n",
    "print(df2['patient_num'].tail(10))"
   ]
  },
  {
   "cell_type": "code",
   "execution_count": 5,
   "metadata": {},
   "outputs": [],
   "source": [
    "import pandas as pd\n",
    "\n",
    "# 엑셀 파일 읽기\n",
    "df3 = pd.read_excel('/home/osh/data/vlabhufs.ipdisk.co.kr/VOL1/Storage1/Data/SNUBH_Breast/201~300/201~300.xlsx')\n",
    "\n",
    "# 'patient_num' 열을 생성하고 201부터 300까지의 숫자로 채우기\n",
    "df3['patient_num'] = [f\"{i:03d}\" for i in range(201, 301)]\n",
    "\n",
    "# 덮어쓰기 모드로 엑셀 파일 저장\n",
    "df3.to_excel('/home/osh/data/vlabhufs.ipdisk.co.kr/VOL1/Storage1/Data/SNUBH_Breast/201~300/201~300.xlsx', index=False)"
   ]
  },
  {
   "cell_type": "code",
   "execution_count": 6,
   "metadata": {},
   "outputs": [
    {
     "name": "stdout",
     "output_type": "stream",
     "text": [
      "0    201\n",
      "1    202\n",
      "2    203\n",
      "3    204\n",
      "4    205\n",
      "5    206\n",
      "6    207\n",
      "7    208\n",
      "8    209\n",
      "9    210\n",
      "Name: patient_num, dtype: object\n",
      "90    291\n",
      "91    292\n",
      "92    293\n",
      "93    294\n",
      "94    295\n",
      "95    296\n",
      "96    297\n",
      "97    298\n",
      "98    299\n",
      "99    300\n",
      "Name: patient_num, dtype: object\n"
     ]
    }
   ],
   "source": [
    "# 'patient_num' 열의 처음 10행 출력\n",
    "print(df3['patient_num'].head(10))\n",
    "\n",
    "# 'patient_num' 열의 마지막 10행 출력\n",
    "print(df3['patient_num'].tail(10))"
   ]
  },
  {
   "cell_type": "code",
   "execution_count": 7,
   "metadata": {},
   "outputs": [],
   "source": [
    "import pandas as pd\n",
    "\n",
    "# 엑셀 파일 읽기\n",
    "df4 = pd.read_excel('/home/osh/data/vlabhufs.ipdisk.co.kr/VOL1/Storage1/Data/SNUBH_Breast/301~400/301~400.xlsx')\n",
    "\n",
    "# 'patient_num' 열을 생성하고 301부터 400까지의 숫자로 채우기\n",
    "df4['patient_num'] = [f\"{i:03d}\" for i in range(301, 401)]\n",
    "\n",
    "# 덮어쓰기 모드로 엑셀 파일 저장\n",
    "df4.to_excel('/home/osh/data/vlabhufs.ipdisk.co.kr/VOL1/Storage1/Data/SNUBH_Breast/301~400/301~400.xlsx', index=False)"
   ]
  },
  {
   "cell_type": "code",
   "execution_count": 8,
   "metadata": {},
   "outputs": [
    {
     "name": "stdout",
     "output_type": "stream",
     "text": [
      "0    301\n",
      "1    302\n",
      "2    303\n",
      "3    304\n",
      "4    305\n",
      "5    306\n",
      "6    307\n",
      "7    308\n",
      "8    309\n",
      "9    310\n",
      "Name: patient_num, dtype: object\n",
      "90    391\n",
      "91    392\n",
      "92    393\n",
      "93    394\n",
      "94    395\n",
      "95    396\n",
      "96    397\n",
      "97    398\n",
      "98    399\n",
      "99    400\n",
      "Name: patient_num, dtype: object\n"
     ]
    }
   ],
   "source": [
    "# 'patient_num' 열의 처음 10행 출력\n",
    "print(df4['patient_num'].head(10))\n",
    "\n",
    "# 'patient_num' 열의 마지막 10행 출력\n",
    "print(df4['patient_num'].tail(10))"
   ]
  },
  {
   "cell_type": "code",
   "execution_count": 9,
   "metadata": {},
   "outputs": [],
   "source": [
    "import pandas as pd\n",
    "\n",
    "# 엑셀 파일 읽기\n",
    "df5 = pd.read_excel('/home/osh/data/vlabhufs.ipdisk.co.kr/VOL1/Storage1/Data/SNUBH_Breast/401~514/401~514.xlsx')\n",
    "\n",
    "# 'patient_num' 열을 생성하고 401부터 514까지의 숫자로 채우기\n",
    "df5['patient_num'] = [f\"{i:03d}\" for i in range(401, 515)]\n",
    "\n",
    "# 덮어쓰기 모드로 엑셀 파일 저장\n",
    "df5.to_excel('/home/osh/data/vlabhufs.ipdisk.co.kr/VOL1/Storage1/Data/SNUBH_Breast/401~514/401~514.xlsx', index=False)"
   ]
  },
  {
   "cell_type": "code",
   "execution_count": 10,
   "metadata": {},
   "outputs": [
    {
     "name": "stdout",
     "output_type": "stream",
     "text": [
      "0    401\n",
      "1    402\n",
      "2    403\n",
      "3    404\n",
      "4    405\n",
      "5    406\n",
      "6    407\n",
      "7    408\n",
      "8    409\n",
      "9    410\n",
      "Name: patient_num, dtype: object\n",
      "104    505\n",
      "105    506\n",
      "106    507\n",
      "107    508\n",
      "108    509\n",
      "109    510\n",
      "110    511\n",
      "111    512\n",
      "112    513\n",
      "113    514\n",
      "Name: patient_num, dtype: object\n"
     ]
    }
   ],
   "source": [
    "# 'patient_num' 열의 처음 10행 출력\n",
    "print(df5['patient_num'].head(10))\n",
    "\n",
    "# 'patient_num' 열의 마지막 10행 출력\n",
    "print(df5['patient_num'].tail(10))"
   ]
  }
 ],
 "metadata": {
  "kernelspec": {
   "display_name": "vlab",
   "language": "python",
   "name": "vlab"
  },
  "language_info": {
   "codemirror_mode": {
    "name": "ipython",
    "version": 3
   },
   "file_extension": ".py",
   "mimetype": "text/x-python",
   "name": "python",
   "nbconvert_exporter": "python",
   "pygments_lexer": "ipython3",
   "version": "3.9.17"
  }
 },
 "nbformat": 4,
 "nbformat_minor": 2
}
